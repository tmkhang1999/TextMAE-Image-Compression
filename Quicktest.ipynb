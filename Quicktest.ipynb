{
  "cells": [
    {
      "cell_type": "code",
      "source": [
        "!git clone https://github.com/tmkhang1999/TextMAE-Image-Compression.git"
      ],
      "metadata": {
        "id": "GrM7Uf0PMt_g"
      },
      "execution_count": null,
      "outputs": []
    },
    {
      "cell_type": "code",
      "source": [
        "cd TextMAE-Image-Compression"
      ],
      "metadata": {
        "id": "kjeXWM5LOzKB",
        "outputId": "9c96fe22-9c5f-4f09-dc44-8e5a05b821ba",
        "colab": {
          "base_uri": "https://localhost:8080/"
        }
      },
      "execution_count": 5,
      "outputs": [
        {
          "output_type": "stream",
          "name": "stdout",
          "text": [
            "/content/drive/MyDrive/Research - Video Compression/Code/TextMAE-Image-Compression\n"
          ]
        }
      ]
    },
    {
      "cell_type": "code",
      "source": [
        "ls"
      ],
      "metadata": {
        "id": "8SA747PGMseE",
        "outputId": "76129c49-ff60-4b29-cfa9-61bc6cd291cd",
        "colab": {
          "base_uri": "https://localhost:8080/"
        }
      },
      "execution_count": 6,
      "outputs": [
        {
          "output_type": "stream",
          "name": "stdout",
          "text": [
            "\u001b[0m\u001b[01;34mdatasets\u001b[0m/     LICENSE  README.md         testing.py      training.py\n",
            "inference.py  \u001b[01;34mmodels\u001b[0m/  requirements.txt  Training.ipynb  \u001b[01;34mutils\u001b[0m/\n"
          ]
        }
      ]
    },
    {
      "cell_type": "code",
      "execution_count": null,
      "metadata": {
        "id": "4gC_mhoJ-QdE"
      },
      "outputs": [],
      "source": [
        "!pip install -r requirements.txt"
      ]
    },
    {
      "cell_type": "code",
      "source": [
        "!pip install compressai"
      ],
      "metadata": {
        "id": "7wX7vJKbU_gf"
      },
      "execution_count": null,
      "outputs": []
    },
    {
      "cell_type": "code",
      "source": [
        "!CUDA_VISIBLE_DEVICES=0 python training.py \\\n",
        "-d ./datasets/kodak\\\n",
        "-e 50 \\\n",
        "--input_size 224\\\n",
        "--batch_size 24 \\\n",
        "--checkpoint ./pretrained_models/mae_visualize_vit_large_ganloss.pth \\\n",
        "--output_dir ./outputs \\\n",
        "--log_dir ./logs \\\n",
        "--cuda"
      ],
      "metadata": {
        "id": "0_RFbMjv_ZEM"
      },
      "execution_count": null,
      "outputs": []
    },
    {
      "cell_type": "code",
      "source": [
        "!CUDA_VISIBLE_DEVICES=0 python testing.py \\\n",
        "-d ./datasets/kodak\\\n",
        "-r ./results\\\n",
        "-p ./weights/best_model.pth\\\n",
        "--input_size 224\\\n",
        "--num_keep_patches 144 \\\n",
        "--cuda"
      ],
      "metadata": {
        "colab": {
          "base_uri": "https://localhost:8080/"
        },
        "id": "wsjSsH_fJOUm",
        "outputId": "1aa897f9-da0a-4f09-8388-2e8c22e13def"
      },
      "execution_count": 16,
      "outputs": [
        {
          "output_type": "stream",
          "name": "stdout",
          "text": [
            "{\n",
            "  \"name\": \"MCM\",\n",
            "  \"description\": \"Inference (ans)\",\n",
            "  \"results\": {\n",
            "    \"psnr\": [\n",
            "      2.9351317087809243\n",
            "    ],\n",
            "    \"ms-ssim\": [\n",
            "      0.018696246028412133\n",
            "    ],\n",
            "    \"bpp\": [\n",
            "      0.10941485969387754\n",
            "    ],\n",
            "    \"encoding_time\": [\n",
            "      0.1376307358344396\n",
            "    ],\n",
            "    \"decoding_time\": [\n",
            "      0.09863179922103882\n",
            "    ]\n",
            "  }\n",
            "}\n"
          ]
        }
      ]
    }
  ],
  "metadata": {
    "accelerator": "GPU",
    "colab": {
      "provenance": []
    },
    "kernelspec": {
      "display_name": "Python 3",
      "name": "python3"
    },
    "language_info": {
      "name": "python"
    }
  },
  "nbformat": 4,
  "nbformat_minor": 0
}